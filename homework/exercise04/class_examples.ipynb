{
 "cells": [
  {
   "cell_type": "markdown",
   "metadata": {
    "slideshow": {
     "slide_type": "slide"
    }
   },
   "source": [
    "# Object-Orient Programming\n",
    "## Keywords\n",
    "* [Encapsulation](#encapsulation)\n",
    "* [Abstraction](#abstraction)\n",
    "* [Inheritance](#inheritance)\n",
    "* [Polymorphism](#polymorphism)"
   ]
  },
  {
   "cell_type": "markdown",
   "metadata": {
    "slideshow": {
     "slide_type": "slide"
    }
   },
   "source": [
    "## Examples\n",
    "### Encapsulation\n",
    "* NOT enforced in Python\n",
    "    * But still useful to signal to users\n",
    "* Methods/Variables\n",
    "    * Public\n",
    "        * Accessible by anyone\n",
    "    * Protected\n",
    "        * Usable by objects of the same class\n",
    "    * Private\n",
    "        * Only accessible by the object itself"
   ]
  },
  {
   "cell_type": "markdown",
   "metadata": {
    "slideshow": {
     "slide_type": "subslide"
    }
   },
   "source": [
    "#### Naming Conventions\n",
    "* Private methods/attributes have a double dunder prefix (protected has one)\n",
    "    * self.__my_private_variable\n",
    "    * self.__private_function( )\n",
    "* Protected has one\n",
    "    * self._my_favorite_functions( )"
   ]
  },
  {
   "cell_type": "markdown",
   "metadata": {
    "slideshow": {
     "slide_type": "subslide"
    }
   },
   "source": [
    "#### Open to the World"
   ]
  },
  {
   "cell_type": "code",
   "execution_count": 1,
   "metadata": {
    "ExecuteTime": {
     "end_time": "2020-11-17T13:31:39.164476Z",
     "start_time": "2020-11-17T13:31:39.133163Z"
    },
    "slideshow": {
     "slide_type": "fragment"
    }
   },
   "outputs": [],
   "source": [
    "class Person:\n",
    "    \n",
    "    def __init__(self, height:int, weight: int, age: int):\n",
    "        self.height = height\n",
    "        self.weight = weight\n",
    "        self.age = age"
   ]
  },
  {
   "cell_type": "code",
   "execution_count": 2,
   "metadata": {
    "ExecuteTime": {
     "end_time": "2020-11-17T13:31:39.255705Z",
     "start_time": "2020-11-17T13:31:39.207160Z"
    },
    "slideshow": {
     "slide_type": "subslide"
    }
   },
   "outputs": [
    {
     "data": {
      "text/plain": [
       "170"
      ]
     },
     "execution_count": 2,
     "metadata": {},
     "output_type": "execute_result"
    }
   ],
   "source": [
    "# Easily accessible\n",
    "bruce = Person(170, 73, 31)\n",
    "bruce.height"
   ]
  },
  {
   "cell_type": "code",
   "execution_count": 3,
   "metadata": {
    "ExecuteTime": {
     "end_time": "2020-11-17T13:31:39.297718Z",
     "start_time": "2020-11-17T13:31:39.273618Z"
    },
    "slideshow": {
     "slide_type": "subslide"
    }
   },
   "outputs": [
    {
     "data": {
      "text/plain": [
       "70"
      ]
     },
     "execution_count": 3,
     "metadata": {},
     "output_type": "execute_result"
    }
   ],
   "source": [
    "# Can control the attribute\n",
    "bruce.weight = 70\n",
    "bruce.weight"
   ]
  },
  {
   "cell_type": "markdown",
   "metadata": {
    "slideshow": {
     "slide_type": "subslide"
    }
   },
   "source": [
    "#### Make It Private"
   ]
  },
  {
   "cell_type": "code",
   "execution_count": 4,
   "metadata": {
    "ExecuteTime": {
     "end_time": "2020-11-17T13:31:39.339744Z",
     "start_time": "2020-11-17T13:31:39.316933Z"
    },
    "slideshow": {
     "slide_type": "fragment"
    }
   },
   "outputs": [],
   "source": [
    "class Person:\n",
    "    \n",
    "    def __init__(self, height:int, weight: int, age: int):\n",
    "        self.height = height\n",
    "        self.__weight = weight  # Private information\n",
    "        self.__age = age  # Private information\n",
    "        \n",
    "    def get_weight(self) -> int:\n",
    "        # Can control what the user gets\n",
    "        return self.__weight - 2"
   ]
  },
  {
   "cell_type": "code",
   "execution_count": 6,
   "metadata": {
    "ExecuteTime": {
     "end_time": "2020-11-17T13:32:01.213509Z",
     "start_time": "2020-11-17T13:32:01.205935Z"
    },
    "slideshow": {
     "slide_type": "subslide"
    }
   },
   "outputs": [
    {
     "ename": "AttributeError",
     "evalue": "'Person' object has no attribute '__weight'",
     "output_type": "error",
     "traceback": [
      "\u001b[0;31m---------------------------------------------------------------------------\u001b[0m",
      "\u001b[0;31mAttributeError\u001b[0m                            Traceback (most recent call last)",
      "\u001b[0;32m<ipython-input-6-bbc8d69665ae>\u001b[0m in \u001b[0;36m<module>\u001b[0;34m\u001b[0m\n\u001b[1;32m      1\u001b[0m \u001b[0;31m# Can't access it anymore\u001b[0m\u001b[0;34m\u001b[0m\u001b[0;34m\u001b[0m\u001b[0;34m\u001b[0m\u001b[0m\n\u001b[1;32m      2\u001b[0m \u001b[0mbruce\u001b[0m \u001b[0;34m=\u001b[0m \u001b[0mPerson\u001b[0m\u001b[0;34m(\u001b[0m\u001b[0;36m170\u001b[0m\u001b[0;34m,\u001b[0m \u001b[0;36m75\u001b[0m\u001b[0;34m,\u001b[0m \u001b[0;36m35\u001b[0m\u001b[0;34m)\u001b[0m\u001b[0;34m\u001b[0m\u001b[0;34m\u001b[0m\u001b[0m\n\u001b[0;32m----> 3\u001b[0;31m \u001b[0mbruce\u001b[0m\u001b[0;34m.\u001b[0m\u001b[0m__weight\u001b[0m\u001b[0;34m\u001b[0m\u001b[0;34m\u001b[0m\u001b[0m\n\u001b[0m",
      "\u001b[0;31mAttributeError\u001b[0m: 'Person' object has no attribute '__weight'"
     ]
    }
   ],
   "source": [
    "# Can't access it anymore\n",
    "bruce = Person(170, 75, 35)\n",
    "bruce.__weight"
   ]
  },
  {
   "cell_type": "code",
   "execution_count": null,
   "metadata": {
    "ExecuteTime": {
     "end_time": "2020-11-17T13:32:01.216056Z",
     "start_time": "2020-11-17T13:32:01.209Z"
    },
    "slideshow": {
     "slide_type": "subslide"
    }
   },
   "outputs": [],
   "source": [
    "# Have to access it using the method\n",
    "bruce.get_weight()"
   ]
  },
  {
   "cell_type": "markdown",
   "metadata": {
    "slideshow": {
     "slide_type": "slide"
    }
   },
   "source": [
    "### Inheritance and Abstraction\n",
    "#### Abstraction\n",
    "* Method of hiding complexity and showing/providing what the user needs\n",
    "\n",
    "#### Inheritance\n",
    "* Great for preventing repetitive code\n",
    "* Used to define shared methods/attributes for child classes"
   ]
  },
  {
   "cell_type": "code",
   "execution_count": 7,
   "metadata": {
    "ExecuteTime": {
     "end_time": "2020-11-17T13:32:01.330675Z",
     "start_time": "2020-11-17T13:32:01.320984Z"
    },
    "slideshow": {
     "slide_type": "subslide"
    }
   },
   "outputs": [],
   "source": [
    "class Person:\n",
    "    \n",
    "    def __init__(self, height: int, weight: int, age: int):\n",
    "        self.height = height\n",
    "        self._weight = weight  # Protected information\n",
    "        self._age = age  # Protected information\n",
    "        \n",
    "    def get_weight(self):\n",
    "        pass\n",
    "    \n",
    "    def get_height(self):  # Will be inherited\n",
    "        return self.height\n",
    "\n",
    "    \n",
    "class Adult(Person):\n",
    "    \n",
    "    def __init__(self, height: int, weight: int, age: int, job: str):\n",
    "        super().__init__(height, weight, age)  # Inherit attributes and abstract method\n",
    "        self.job = job  # Adult class specific attribute\n",
    "        \n",
    "    def get_weight(self) -> int:\n",
    "        return self._weight - 2\n",
    "\n",
    "\n",
    "class Kid(Person):\n",
    "    def __init__(self, height: int, weight: int, age: int):\n",
    "        super().__init__(height, weight, age)  # Inherit attributes and abstract method\n",
    "        \n",
    "    def get_weight(self) -> str:\n",
    "        return \"?\""
   ]
  },
  {
   "cell_type": "code",
   "execution_count": 8,
   "metadata": {
    "ExecuteTime": {
     "end_time": "2020-11-17T13:32:01.340014Z",
     "start_time": "2020-11-17T13:32:01.334081Z"
    },
    "slideshow": {
     "slide_type": "subslide"
    }
   },
   "outputs": [
    {
     "data": {
      "text/plain": [
       "170"
      ]
     },
     "execution_count": 8,
     "metadata": {},
     "output_type": "execute_result"
    }
   ],
   "source": [
    "bruce = Adult(170, 75, 35, 'bioinformatician')\n",
    "# Inherited method\n",
    "bruce.get_height()"
   ]
  },
  {
   "cell_type": "code",
   "execution_count": 9,
   "metadata": {
    "ExecuteTime": {
     "end_time": "2020-11-17T13:32:01.347577Z",
     "start_time": "2020-11-17T13:32:01.343509Z"
    },
    "slideshow": {
     "slide_type": "subslide"
    }
   },
   "outputs": [
    {
     "data": {
      "text/plain": [
       "73"
      ]
     },
     "execution_count": 9,
     "metadata": {},
     "output_type": "execute_result"
    }
   ],
   "source": [
    "# Accessing a now protected method!\n",
    "bruce.get_weight()"
   ]
  },
  {
   "cell_type": "code",
   "execution_count": 10,
   "metadata": {
    "ExecuteTime": {
     "end_time": "2020-11-17T13:32:01.355248Z",
     "start_time": "2020-11-17T13:32:01.349858Z"
    },
    "slideshow": {
     "slide_type": "subslide"
    }
   },
   "outputs": [
    {
     "data": {
      "text/plain": [
       "'?'"
      ]
     },
     "execution_count": 10,
     "metadata": {},
     "output_type": "execute_result"
    }
   ],
   "source": [
    "jack_jack = Kid(78, 11, 1.5)\n",
    "jack_jack.get_weight()"
   ]
  },
  {
   "cell_type": "markdown",
   "metadata": {
    "slideshow": {
     "slide_type": "slide"
    }
   },
   "source": [
    "### Polymorphism\n",
    "* Modifying inherited methods to fit the child class\n",
    "    * Known as __Method Overriding__\n"
   ]
  },
  {
   "cell_type": "code",
   "execution_count": 11,
   "metadata": {
    "ExecuteTime": {
     "end_time": "2020-11-17T13:32:01.373944Z",
     "start_time": "2020-11-17T13:32:01.358058Z"
    },
    "slideshow": {
     "slide_type": "subslide"
    }
   },
   "outputs": [],
   "source": [
    "class Person:\n",
    "    \n",
    "    def __init__(self, height: int, weight: int, age: int):\n",
    "        self.height = height\n",
    "        self._weight = weight  # Protected information\n",
    "        self._age = age  # Protected information\n",
    "        \n",
    "    def get_weight(self):\n",
    "        return self._weight\n",
    "    \n",
    "    def get_height(self):  # Will be inherited\n",
    "        return self.height\n",
    "\n",
    "    def get_age(self):\n",
    "        return self._age\n",
    "    \n",
    "    \n",
    "class Adult(Person):\n",
    "    \n",
    "    def __init__(self, height: int, weight: int, age: int, job: str):\n",
    "        super().__init__(height, weight, age)  # Inherit attributes and abstract method\n",
    "        self.job = job  # Adult class specific attribute\n",
    "        \n",
    "    def get_weight(self) -> int:\n",
    "        return self._weight - 2\n",
    "    \n",
    "    \n",
    "class Kid(Person):\n",
    "    def __init__(self, height: int, weight: int, age: int):\n",
    "        super().__init__(height, weight, age)  # Inherit attributes and abstract method\n",
    "        \n",
    "    def get_weight(self) -> str:\n",
    "        return \"?\"\n",
    "    \n",
    "    def get_height(self) -> int:\n",
    "        return self.height + 3"
   ]
  },
  {
   "cell_type": "code",
   "execution_count": 12,
   "metadata": {
    "ExecuteTime": {
     "end_time": "2020-11-17T13:32:01.386893Z",
     "start_time": "2020-11-17T13:32:01.380011Z"
    },
    "slideshow": {
     "slide_type": "subslide"
    }
   },
   "outputs": [
    {
     "data": {
      "text/plain": [
       "170"
      ]
     },
     "execution_count": 12,
     "metadata": {},
     "output_type": "execute_result"
    }
   ],
   "source": [
    "bruce = Adult(170, 75, 35, 'bioinformatician')\n",
    "bruce.get_height()"
   ]
  },
  {
   "cell_type": "code",
   "execution_count": 13,
   "metadata": {
    "ExecuteTime": {
     "end_time": "2020-11-17T13:32:01.395455Z",
     "start_time": "2020-11-17T13:32:01.389516Z"
    },
    "slideshow": {
     "slide_type": "subslide"
    }
   },
   "outputs": [
    {
     "data": {
      "text/plain": [
       "81"
      ]
     },
     "execution_count": 13,
     "metadata": {},
     "output_type": "execute_result"
    }
   ],
   "source": [
    "# get_height() was modified\n",
    "jack_jack = Kid(78, 11, 1.5)\n",
    "jack_jack.get_height() "
   ]
  }
 ],
 "metadata": {
  "kernelspec": {
   "display_name": "Python 3",
   "language": "python",
   "name": "python3"
  },
  "language_info": {
   "codemirror_mode": {
    "name": "ipython",
    "version": 3
   },
   "file_extension": ".py",
   "mimetype": "text/x-python",
   "name": "python",
   "nbconvert_exporter": "python",
   "pygments_lexer": "ipython3",
   "version": "3.7.9"
  },
  "toc": {
   "base_numbering": 1,
   "nav_menu": {},
   "number_sections": false,
   "sideBar": true,
   "skip_h1_title": false,
   "title_cell": "Table of Contents",
   "title_sidebar": "Contents",
   "toc_cell": false,
   "toc_position": {
    "height": "calc(100% - 180px)",
    "left": "10px",
    "top": "150px",
    "width": "276px"
   },
   "toc_section_display": true,
   "toc_window_display": false
  }
 },
 "nbformat": 4,
 "nbformat_minor": 4
}
